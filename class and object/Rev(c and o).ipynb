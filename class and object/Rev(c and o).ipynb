{
 "cells": [
  {
   "cell_type": "code",
   "execution_count": 9,
   "id": "0413d332-3d67-45ab-9967-d49d5d11e370",
   "metadata": {},
   "outputs": [
    {
     "name": "stdout",
     "output_type": "stream",
     "text": [
      "Deposited 200. New balance: 700\n",
      "Withdrew 100. Remaining balance: 600\n",
      "Final Balance: 600\n"
     ]
    }
   ],
   "source": [
    "#Encapsulation\n",
    "class BankAccount:\n",
    "\n",
    "    def __init__(self, owner, balance):\n",
    "        self.owner = owner\n",
    "        self.__balance = balance #private attribute\n",
    "#adding double underscore we are making our variable a private and within init we can't access it outside the class directly\n",
    "        \n",
    "    def deposit(self, amount):\n",
    "        if amount > 0:\n",
    "            self.__balance += amount\n",
    "            print(f\"Deposited {amount}. New balance: {self.__balance}\")\n",
    "        else:\n",
    "            print(\"Deposit amount must be positive.\")\n",
    "\n",
    "    def withdraw(self, amount):\n",
    "        if 0 < amount <= self.__balance:\n",
    "            self.__balance -= amount\n",
    "            print(f\"Withdrew {amount}. Remaining balance: {self.__balance}\")\n",
    "        else:\n",
    "            print(\"Insufficient funds or invalid amount.\")\n",
    "\n",
    "    def get_balance(self):\n",
    "        return self.__balance\n",
    "\n",
    "account = BankAccount(\"John\", 500)\n",
    "account.deposit(200)\n",
    "account.withdraw(100)\n",
    "print(\"Final Balance:\", account.get_balance())\n"
   ]
  },
  {
   "cell_type": "code",
   "execution_count": 10,
   "id": "cae2a401-db4c-44a7-a171-ac6d27d77b2a",
   "metadata": {},
   "outputs": [
    {
     "name": "stdout",
     "output_type": "stream",
     "text": [
      "Buddy makes a sound.\n",
      "Buddy is fetching the ball!\n"
     ]
    }
   ],
   "source": [
    "#Inheritance\n",
    "class Animal:\n",
    "    def __init__(self, name):\n",
    "        self.name = name\n",
    "\n",
    "    def speak(self):\n",
    "        print(f\"{self.name} makes a sound.\")\n",
    "\n",
    "class Dog(Animal):\n",
    "    def fetch(self):\n",
    "        print(f\"{self.name} is fetching the ball!\")\n",
    "\n",
    "dog = Dog(\"Buddy\")\n",
    "dog.speak()\n",
    "dog.fetch()"
   ]
  },
  {
   "cell_type": "code",
   "execution_count": 3,
   "id": "e7f593c4-15f9-4812-8607-c009d492c7c7",
   "metadata": {},
   "outputs": [
    {
     "name": "stdout",
     "output_type": "stream",
     "text": [
      "M8 has 3 color variants are available\n",
      "Harrier has 2 colors variants are available\n"
     ]
    }
   ],
   "source": [
    "class Cars:\n",
    "    def __init__(self,model):\n",
    "        self.model = model\n",
    "       \n",
    "\n",
    "    def colors(self):\n",
    "        return \"4 color variants available\"\n",
    "\n",
    "class BMW(Cars):\n",
    "    def colors(self):\n",
    "        return \"3 color variants are available\"\n",
    "\n",
    "class TATA(Cars):\n",
    "    def colors(self):\n",
    "        return \"2 colors variants are available\"\n",
    "\n",
    "b1 = BMW(\"M8\")\n",
    "t1 = TATA(\"Harrier\")\n",
    "print(f\"{b1.model} has {b1.colors()}\")\n",
    "print(f\"{t1.model} has {t1.colors()}\")"
   ]
  },
  {
   "cell_type": "code",
   "execution_count": 5,
   "id": "81a018f4-6ec8-470e-9403-df97f32f9858",
   "metadata": {},
   "outputs": [
    {
     "name": "stdout",
     "output_type": "stream",
     "text": [
      "11\n",
      "19\n",
      "16\n"
     ]
    }
   ],
   "source": [
    "#polymorphism (method overloading)\n",
    "class addition:\n",
    "    def add(self, *args):\n",
    "        return sum(args)\n",
    "\n",
    "a1 = addition()\n",
    "print(a1.add(5,6))\n",
    "print(a1.add(5,6,8))\n",
    "print(a1.add(5,6,5))"
   ]
  },
  {
   "cell_type": "code",
   "execution_count": 6,
   "id": "c1896f5c-05a2-45bf-9512-17e04d225309",
   "metadata": {},
   "outputs": [
    {
     "name": "stdout",
     "output_type": "stream",
     "text": [
      "Array A: [0.1436388232259589, 0.4728940214832458, -0.7492555533078638, -0.19302158575686224, 0.6262770034671059]\n",
      "Array B: [-0.04078712110487448, 0.38758743688592556, -0.1811113701034195, -0.30825717325734536, 0.8667472593806238]\n",
      "Shift1 : inner product=0.01\n",
      "Shift2 : inner product=-0.57\n",
      "Shift3 : inner product=0.21\n",
      "Shift4 : inner product=-0.34\n",
      "Shift5 : inner product=0.92\n"
     ]
    }
   ],
   "source": [
    "#Circular shift between 2 arrays A and B\n",
    "import random\n",
    "class ArrayOperations:\n",
    "    def __init__(self, size):\n",
    "        self.A = [random.uniform(-1,1) for _ in range(size)]\n",
    "        self.B= [random.uniform(-1,1) for _ in range(size)]\n",
    "\n",
    "    def inner_product(self):\n",
    "        product = 0\n",
    "        for i in range(len(self.A)):\n",
    "            product += self.A[i] * self.B[i]\n",
    "        return product\n",
    "\n",
    "class ArrayShifter(ArrayOperations):\n",
    "    def __init__(self, size):\n",
    "        super().__init__(size)\n",
    "\n",
    "    def circular_shifter(self):\n",
    "        temp =self.B[0]\n",
    "        for i in range(len(self.B)-1):\n",
    "            self.B[i] = self.B[i+1]\n",
    "        self.B[-1] = temp\n",
    "\n",
    "shifter = ArrayShifter(5)\n",
    "print(\"Array A:\" , shifter.A)\n",
    "print(\"Array B:\" , shifter.B)\n",
    "\n",
    "for i in range(5):\n",
    "    shifter.circular_shifter()\n",
    "    inner_product = shifter.inner_product()\n",
    "    print(f\"Shift{i+1} : inner product={inner_product:.2f}\")\n"
   ]
  }
 ],
 "metadata": {
  "kernelspec": {
   "display_name": "Python 3 (ipykernel)",
   "language": "python",
   "name": "python3"
  },
  "language_info": {
   "codemirror_mode": {
    "name": "ipython",
    "version": 3
   },
   "file_extension": ".py",
   "mimetype": "text/x-python",
   "name": "python",
   "nbconvert_exporter": "python",
   "pygments_lexer": "ipython3",
   "version": "3.12.7"
  }
 },
 "nbformat": 4,
 "nbformat_minor": 5
}
