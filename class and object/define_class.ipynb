{
 "cells": [
  {
   "cell_type": "code",
   "execution_count": 2,
   "id": "884d07b7-00af-4f71-aa49-78b519122ea1",
   "metadata": {},
   "outputs": [
    {
     "name": "stdout",
     "output_type": "stream",
     "text": [
      "Buddy\n",
      "Golden Retriever\n",
      "Woof! Woof!\n"
     ]
    }
   ],
   "source": [
    "\"\"\"Object Oriented programming concepts\"\"\"\n",
    "\n",
    "class Dog:\n",
    "    def __init__(self,name,breed):\n",
    "        self.name = name\n",
    "        self.age = breed\n",
    "\n",
    "    def bark(self):\n",
    "        print(\"Woof! Woof!\")\n",
    "\n",
    "dog = Dog(\"Buddy\", \"Golden Retriever\")\n",
    "print(dog.name)\n",
    "print(dog.age)\n",
    "dog.bark()\n",
    "\n"
   ]
  },
  {
   "cell_type": "code",
   "execution_count": 4,
   "id": "0ae3b00c-d609-40e2-8662-34479a9e92ab",
   "metadata": {},
   "outputs": [
    {
     "name": "stdout",
     "output_type": "stream",
     "text": [
      "Toyota\n",
      "Innova\n",
      "2022\n",
      "Resale Value: xxx\n",
      "Engine started\n",
      "Engine stop\n",
      "Honda\n",
      "City\n",
      "2021\n",
      "Resale Value: xxx\n",
      "Engine started\n",
      "Engine stop\n"
     ]
    }
   ],
   "source": [
    "class Car:\n",
    "    def __init__(self, make, model, year):\n",
    "        self.make = make\n",
    "        self.model = model\n",
    "        self.year = year\n",
    "\n",
    "    def resale_value(self):\n",
    "        print(\"Resale Value: xxx\")\n",
    "\n",
    "    def start_engine(self):\n",
    "        print(\"Engine started\")\n",
    "\n",
    "    def stop_engine(self):\n",
    "        print(\"Engine stop\")\n",
    "car1 = Car(\"Toyota\", \"Innova\", 2022)\n",
    "print(car1.make)\n",
    "print(car1.model)\n",
    "print(car1.year)\n",
    "car1.resale_value()\n",
    "car1.start_engine()\n",
    "car1.stop_engine()\n",
    "\n",
    "car2 = Car(\"Honda\", \"City\", 2021)\n",
    "print(car2.make)\n",
    "print(car2.model)\n",
    "print(car2.year)\n",
    "car2.resale_value()\n",
    "car2.start_engine()\n",
    "car2.stop_engine()"
   ]
  },
  {
   "cell_type": "code",
   "execution_count": 14,
   "id": "c5026503-79d3-416c-b00f-26e3e1cd7e9f",
   "metadata": {},
   "outputs": [
    {
     "name": "stdout",
     "output_type": "stream",
     "text": [
      "Toyota\n",
      "Innova\n",
      "2022\n",
      "4\n",
      "Resale Value: xxx\n",
      "Engine started\n",
      "Engine stopped\n",
      "Honda\n",
      "CBR\n",
      "2021\n",
      "12\n",
      "Resale Value: xxx\n",
      "Engine started\n"
     ]
    }
   ],
   "source": [
    "class Vehicles:\n",
    "    def __init__(self, make, model, year):\n",
    "        self.make = make\n",
    "        self.model = model\n",
    "        self.year = year\n",
    "\n",
    "    def resale_value(self):\n",
    "        pass\n",
    "\n",
    "    def start_engine(self):\n",
    "        print(\"Engine started\")\n",
    "\n",
    "    def stop_engine(self):\n",
    "        print(\"Engine stopped\")\n",
    "\n",
    "class Car(Vehicles):\n",
    "    def __init__(self, make, model, year, num_doors):\n",
    "        super().__init__(make,model,year)\n",
    "        self.num_doors = num_doors\n",
    "\n",
    "    def resale_value(self):\n",
    "        print(\"Resale Value: xxx\")\n",
    "\n",
    "class Bike(Vehicles):\n",
    "    def __init__(self, make, model, year,num_gears):\n",
    "        super().__init__(make ,model, year)\n",
    "        self.num_gears = num_gears\n",
    "\n",
    "    def resale_value(self):\n",
    "         print(\"Resale Value: xxx\")\n",
    "\n",
    "car1 = Car(\"Toyota\", \"Innova\", 2022, 4)\n",
    "print(car1.make)\n",
    "print(car1.model)\n",
    "print(car1.year)\n",
    "print(car1.num_doors)\n",
    "car1.resale_value()\n",
    "car1.start_engine()\n",
    "car1.stop_engine()\n",
    "\n",
    "Bike1 = Bike(\"Honda\", \"CBR\", 2021, 12)\n",
    "print(Bike1.make)\n",
    "print(Bike1.model)\n",
    "print(Bike1.year)\n",
    "print(Bike1.num_gears)\n",
    "Bike1.resale_value()\n",
    "Bike1.start_engine()"
   ]
  },
  {
   "cell_type": "code",
   "execution_count": 15,
   "id": "61fa5218-69ae-43c9-974f-40d11c72f539",
   "metadata": {},
   "outputs": [
    {
     "name": "stdout",
     "output_type": "stream",
     "text": [
      "[4, 5, 6, 25, 10, 17, 4, 5, 6, 10, 17]\n"
     ]
    }
   ],
   "source": [
    "#Functions of list using oops\n",
    "class MyList:\n",
    "    def __init__(self,initial_list):\n",
    "        self.data = initial_list\n",
    "\n",
    "    def set_second_entry(self,value):\n",
    "        self.data[1] = value\n",
    "\n",
    "    def append_multiple(self, *value):\n",
    "        self.data.extend(value)\n",
    "\n",
    "    def remove_first(self):\n",
    "        self.data.pop(0)\n",
    "\n",
    "    def sort(self):\n",
    "        self.data.sort()\n",
    "\n",
    "    def double_list(self):\n",
    "        self.data.extend(self.data)\n",
    "\n",
    "    def insert_at_index(self, index, value):\n",
    "        self.data.insert(index,value)\n",
    "\n",
    "    def __str__(self):\n",
    "        return str(self.data)\n",
    "\n",
    "mylist =MyList([8,9,10])\n",
    "mylist.set_second_entry(17)\n",
    "mylist.append_multiple(4,5,6)\n",
    "mylist.remove_first()\n",
    "mylist.sort()\n",
    "mylist.double_list()\n",
    "mylist.insert_at_index(3,25)\n",
    "print(mylist)\n"
   ]
  },
  {
   "cell_type": "code",
   "execution_count": 18,
   "id": "052511d3-219f-4f40-85cb-1f34333ecabe",
   "metadata": {},
   "outputs": [
    {
     "name": "stdout",
     "output_type": "stream",
     "text": [
      "Array A: [0.741016293747703, -0.9300448141138153, 0.09305219632737827, 0.3618797811515415, -0.6434645545206528]\n",
      "Array B: [0.5917865229621855, -0.07145535080530152, -0.17255506233163254, -0.083618489499651, -0.7979621337375833]\n",
      "shift1:Inner Product = -0.57\n",
      "shift2:Inner Product = 0.14\n",
      "shift3:Inner Product = 0.82\n",
      "shift4:Inner Product = -1.16\n",
      "shift5:Inner Product = 0.97\n"
     ]
    }
   ],
   "source": [
    "#circular shift and inner product\n",
    "import random\n",
    "class Arrayoperations:\n",
    "    def __init__(self,size):\n",
    "        self.A = [random.uniform(-1,1) for _ in range(size)]\n",
    "        self.B = [random.uniform(-1,1) for _ in range(size)]\n",
    "\n",
    "    def inner_product(self):\n",
    "        product = 0\n",
    "        for i in range(len(self.A)):\n",
    "            product+=self.A[i]*self.B[i]\n",
    "        return product\n",
    "\n",
    "class ArrayShifter(Arrayoperations):\n",
    "    def __init__(self,size):\n",
    "        super(). __init__(size)\n",
    "\n",
    "    def circular_shift(self):\n",
    "        temp = self.B[0]\n",
    "        for i in range(len(self.B)-1):\n",
    "            self.B[i] = self.B[i+1]\n",
    "        self.B[-1] = temp\n",
    "\n",
    "shifter = ArrayShifter(5)\n",
    "print(\"Array A:\", shifter.A)\n",
    "print(\"Array B:\", shifter.B)\n",
    "\n",
    "for i in range(5):\n",
    "    shifter.circular_shift()\n",
    "    inner_product = shifter.inner_product()\n",
    "    print(f\"shift{i+1}:Inner Product = {inner_product:.2f}\")"
   ]
  },
  {
   "cell_type": "code",
   "execution_count": null,
   "id": "7a43c2cd-e710-4b18-addb-079a9a5867c3",
   "metadata": {},
   "outputs": [],
   "source": [
    "#Analytical Derivative\n",
    "\n"
   ]
  }
 ],
 "metadata": {
  "kernelspec": {
   "display_name": "Python 3 (ipykernel)",
   "language": "python",
   "name": "python3"
  },
  "language_info": {
   "codemirror_mode": {
    "name": "ipython",
    "version": 3
   },
   "file_extension": ".py",
   "mimetype": "text/x-python",
   "name": "python",
   "nbconvert_exporter": "python",
   "pygments_lexer": "ipython3",
   "version": "3.12.7"
  }
 },
 "nbformat": 4,
 "nbformat_minor": 5
}
