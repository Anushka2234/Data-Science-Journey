{
 "cells": [
  {
   "cell_type": "code",
   "execution_count": 1,
   "id": "bcf34f8e-116c-4828-9c4e-867d8e7d16af",
   "metadata": {},
   "outputs": [
    {
     "name": "stdout",
     "output_type": "stream",
     "text": [
      "Model: Phantom\n"
     ]
    }
   ],
   "source": [
    "#Drone Problem\n",
    "class Drone:\n",
    "    def __init__(self, model_name, battery_life, max_altitude):\n",
    "        self.model_name = model_name\n",
    "        self.battery_life = battery_life\n",
    "        self.max_altitude = max_altitude\n",
    "\n",
    "    def get_specs(self):\n",
    "        return f\"Model: {self.model_name}\"\n",
    "\n",
    "my_drone = Drone(\"Phantom\", 80, 1200)\n",
    "print(my_drone.get_specs())"
   ]
  },
  {
   "cell_type": "code",
   "execution_count": null,
   "id": "a80705e1-7136-484e-bd3b-f44c961d57e2",
   "metadata": {},
   "outputs": [],
   "source": [
    "class Vehicles:\n",
    "    def __init__(self,make,model,year):\n",
    "        self.make = make\n",
    "        self.model = model\n",
    "        self.year = year\n",
    "    def start_engine(self):\n",
    "        print(\"Engine start\")\n",
    "\n",
    "    def stop_engine(self):\n",
    "        print(\"Engine stop\")\n",
    "\n",
    "class Car(Vehicles):\n",
    "    def __init__(self,make,model,year,num_doors):\n",
    "        super().__init__(make,model,year)\n",
    "        self.num_doors = num_doors\n",
    "\n",
    "    def resale_value(self):\n",
    "        print(\"Resale Value is: xxx\")\n",
    "\n",
    "class Bike(Vehicles):\n",
    "    def __init__(self,make,model,year,num_gears):\n",
    "        super().__init__(make,model,year)\n",
    "        self.num_gears = num_gears\n",
    "\n",
    "    def resale_value(self):\n",
    "        print(\"Resale Value: xxx\")\n",
    "\n",
    "car1 = Car(\"Toyota\",\"Innova\",2022,4)\n",
    "print(car1.make)\n",
    "print(car1.model)\n",
    "print(car1.year)\n",
    "print(car1.num_doors)\n",
    "car1.resale_value()\n",
    "car1.start_engine() \n",
    "car1.stop_engine()\n",
    "\n"
   ]
  }
 ],
 "metadata": {
  "kernelspec": {
   "display_name": "Python 3 (ipykernel)",
   "language": "python",
   "name": "python3"
  },
  "language_info": {
   "codemirror_mode": {
    "name": "ipython",
    "version": 3
   },
   "file_extension": ".py",
   "mimetype": "text/x-python",
   "name": "python",
   "nbconvert_exporter": "python",
   "pygments_lexer": "ipython3",
   "version": "3.12.7"
  }
 },
 "nbformat": 4,
 "nbformat_minor": 5
}
