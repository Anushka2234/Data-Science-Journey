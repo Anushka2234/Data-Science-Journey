{
 "cells": [
  {
   "cell_type": "code",
   "execution_count": 2,
   "id": "6928d8a2-ba7a-4d3c-b6d8-3423be35e55f",
   "metadata": {},
   "outputs": [],
   "source": [
    "#Average then ceil of given number\n",
    "import math\n",
    "def solve(arr,n):\n",
    "    avg = sum(arr)/len(arr)\n",
    "    return math.ceil(sum)"
   ]
  },
  {
   "cell_type": "code",
   "execution_count": 10,
   "id": "57ea5162-c509-46ba-848a-c3f5d6309410",
   "metadata": {},
   "outputs": [
    {
     "name": "stdout",
     "output_type": "stream",
     "text": [
      "True\n"
     ]
    }
   ],
   "source": [
    "#1True if string contain atleast one vowel or false\n",
    "def solve(string,N):\n",
    "    for i in range(N):\n",
    "        if string[i].lower() in ('a' ,'e','i','o','u'):\n",
    "            return True\n",
    "    return False\n",
    "\n",
    "string = \"Anushka\"\n",
    "N = 7\n",
    "result = solve(string,N)\n",
    "print(result)\n",
    "      "
   ]
  },
  {
   "cell_type": "code",
   "execution_count": null,
   "id": "e83c7a4f-2cb3-4f7c-bc06-4e5b86eb6577",
   "metadata": {},
   "outputs": [],
   "source": [
    "#2\n",
    "def solve(s,n):\n",
    "    vowels = 'aeiou'\n",
    "    for char in s:\n",
    "        if char in vowels:\n",
    "            print(\"True\")\n",
    "            return\n",
    "    print(\"False\")"
   ]
  },
  {
   "cell_type": "code",
   "execution_count": 12,
   "id": "2405c0fd-c9a0-42bb-a257-ecbd4207cd8a",
   "metadata": {},
   "outputs": [
    {
     "name": "stdout",
     "output_type": "stream",
     "text": [
      "True\n"
     ]
    }
   ],
   "source": [
    "def prime(num):\n",
    "    if num<2:\n",
    "        return False\n",
    "    for i in range(2,int(num**0.5)+1):\n",
    "        if num%i == 0:\n",
    "            return False\n",
    "    return True\n",
    "\n",
    "print(prime(3))"
   ]
  },
  {
   "cell_type": "code",
   "execution_count": 13,
   "id": "13bfd866-6e4c-4c86-8247-e5e69a62cbb6",
   "metadata": {},
   "outputs": [
    {
     "name": "stdout",
     "output_type": "stream",
     "text": [
      "4\n"
     ]
    }
   ],
   "source": [
    "def square(N):\n",
    "    return N**2\n",
    "\n",
    "print(square(2))"
   ]
  }
 ],
 "metadata": {
  "kernelspec": {
   "display_name": "Python 3 (ipykernel)",
   "language": "python",
   "name": "python3"
  },
  "language_info": {
   "codemirror_mode": {
    "name": "ipython",
    "version": 3
   },
   "file_extension": ".py",
   "mimetype": "text/x-python",
   "name": "python",
   "nbconvert_exporter": "python",
   "pygments_lexer": "ipython3",
   "version": "3.12.7"
  }
 },
 "nbformat": 4,
 "nbformat_minor": 5
}
