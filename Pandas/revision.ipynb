{
 "cells": [
  {
   "cell_type": "code",
   "execution_count": 1,
   "id": "0a3180d6-3ac8-491b-affa-3194cc94a00b",
   "metadata": {},
   "outputs": [
    {
     "name": "stdout",
     "output_type": "stream",
     "text": [
      "[[ 1  2]\n",
      " [45 32]\n",
      " [22 10]\n",
      " [ 1 54]\n",
      " [ 9  0]]\n",
      "[ 7 12]\n"
     ]
    },
    {
     "ename": "ValueError",
     "evalue": "shapes (2,5) and (2,) not aligned: 5 (dim 1) != 2 (dim 0)",
     "output_type": "error",
     "traceback": [
      "\u001b[1;31m---------------------------------------------------------------------------\u001b[0m",
      "\u001b[1;31mValueError\u001b[0m                                Traceback (most recent call last)",
      "Cell \u001b[1;32mIn[1], line 10\u001b[0m\n\u001b[0;32m      8\u001b[0m Y \u001b[38;5;241m=\u001b[39m np\u001b[38;5;241m.\u001b[39marray([\u001b[38;5;241m7\u001b[39m,\u001b[38;5;241m12\u001b[39m])\n\u001b[0;32m      9\u001b[0m \u001b[38;5;28mprint\u001b[39m(Y)\n\u001b[1;32m---> 10\u001b[0m W \u001b[38;5;241m=\u001b[39m np\u001b[38;5;241m.\u001b[39mlinalg\u001b[38;5;241m.\u001b[39minv(np\u001b[38;5;241m.\u001b[39mdot(X\u001b[38;5;241m.\u001b[39mT, X))\u001b[38;5;241m.\u001b[39mdot(X\u001b[38;5;241m.\u001b[39mT)\u001b[38;5;241m.\u001b[39mdot(Y)\n\u001b[0;32m     11\u001b[0m \u001b[38;5;28mprint\u001b[39m(W)\n",
      "\u001b[1;31mValueError\u001b[0m: shapes (2,5) and (2,) not aligned: 5 (dim 1) != 2 (dim 0)"
     ]
    }
   ],
   "source": [
    "\"\"\"\n",
    "There are two datasets dogs and cats, each having 5 images.\n",
    "Find weights of the model using inverse model\n",
    "\"\"\"\n",
    "import numpy as np\n",
    "X = np.array([[1,2],[45,32],[22,10],[1,54],[9,0]])\n",
    "print(X)\n",
    "Y = np.array([7,12])\n",
    "print(Y)\n",
    "W = np.linalg.inv(np.dot(X.T, X)).dot(X.T).dot(Y)\n",
    "print(W)"
   ]
  },
  {
   "cell_type": "code",
   "execution_count": 7,
   "id": "34e55d57-4141-4fbc-9656-2bf9c8030643",
   "metadata": {},
   "outputs": [
    {
     "name": "stdout",
     "output_type": "stream",
     "text": [
      "1    a\n",
      "2    b\n",
      "3    c\n",
      "4    d\n",
      "dtype: object\n",
      "f_name    Derek\n",
      "l_name    Banas\n",
      "age          44\n",
      "dtype: object\n",
      "0   NaN\n",
      "1   NaN\n",
      "2   NaN\n",
      "3   NaN\n",
      "4   NaN\n",
      "5   NaN\n",
      "6   NaN\n",
      "7   NaN\n",
      "dtype: float64\n",
      "rand_nums\n"
     ]
    }
   ],
   "source": [
    "import numpy as np\n",
    "import pandas as pd\n",
    "\n",
    "list_1 = ['a', 'b', 'c', 'd']\n",
    "labels = [1, 2, 3, 4]\n",
    "ser_1 = pd.Series(data=list_1, index=labels)\n",
    "print(ser_1)\n",
    "arr_1 = np.array([1,2,3,4])\n",
    "ser_2 = pd.Series(arr_1)\n",
    "\n",
    "dict_1 = {\"f_name\":\"Derek\",\n",
    "          \"l_name\":\"Banas\",\n",
    "          \"age\":44}\n",
    "ser_3 = pd.Series(dict_1)\n",
    "print(ser_3)\n",
    "\n",
    "ser_3[\"f_name\"]\n",
    "\n",
    "ser_2.dtype\n",
    "\n",
    "ser_2 + ser_2\n",
    "ser_2 - ser_2\n",
    "ser_2 * ser_2\n",
    "ser_2 / ser_2\n",
    "\n",
    "np.exp(ser_2)\n",
    "ser_4 = pd.Series({4: 5, 5: 6, 6: 7, 7: 8})\n",
    "print(ser_2+ser_4)\n",
    "\n",
    "ser_4 = pd.Series({8: 9,9: 10},name='rand_nums')\n",
    "print(ser_4.name)"
   ]
  },
  {
   "cell_type": "code",
   "execution_count": null,
   "id": "9931e46d-6c2f-49d5-8efd-3cb307530766",
   "metadata": {},
   "outputs": [],
   "source": []
  }
 ],
 "metadata": {
  "kernelspec": {
   "display_name": "Python 3 (ipykernel)",
   "language": "python",
   "name": "python3"
  },
  "language_info": {
   "codemirror_mode": {
    "name": "ipython",
    "version": 3
   },
   "file_extension": ".py",
   "mimetype": "text/x-python",
   "name": "python",
   "nbconvert_exporter": "python",
   "pygments_lexer": "ipython3",
   "version": "3.12.7"
  }
 },
 "nbformat": 4,
 "nbformat_minor": 5
}
