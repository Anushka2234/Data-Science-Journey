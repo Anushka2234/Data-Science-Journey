{
 "cells": [
  {
   "cell_type": "code",
   "execution_count": 1,
   "id": "4be93574-bc50-46b2-a9fe-5ea72700accf",
   "metadata": {},
   "outputs": [
    {
     "name": "stdout",
     "output_type": "stream",
     "text": [
      "Bill Id 1002\n",
      "Customer Id 150\n",
      "Bill Amount 750\n",
      "Discount Applied 4\n",
      "Discount Amount 30.0\n",
      "Final Amount 720.0\n"
     ]
    }
   ],
   "source": [
    "bill_id = 1002\n",
    "customer_id = 150\n",
    "bill_amount = 750\n",
    "\n",
    "if bill_amount > 1000:\n",
    "    discount_percenatge = 5\n",
    "elif bill_amount > 500:\n",
    "    discount_percentage = 2\n",
    "else:\n",
    "    discount_percentage = 1\n",
    "\n",
    "if 101 <= customer_id <=1000:\n",
    "    discount_percentage+=2\n",
    "\n",
    "discount_amount = (discount_percentage/100)*bill_amount\n",
    "final_amount = bill_amount - discount_amount\n",
    "\n",
    "print(\"Bill Id\", bill_id)\n",
    "print(\"Customer Id\", customer_id)\n",
    "print(\"Bill Amount\", bill_amount)\n",
    "print(\"Discount Applied\", discount_percentage)\n",
    "print(\"Discount Amount\", discount_amount)\n",
    "print(\"Final Amount\", final_amount)"
   ]
  }
 ],
 "metadata": {
  "kernelspec": {
   "display_name": "Python 3 (ipykernel)",
   "language": "python",
   "name": "python3"
  },
  "language_info": {
   "codemirror_mode": {
    "name": "ipython",
    "version": 3
   },
   "file_extension": ".py",
   "mimetype": "text/x-python",
   "name": "python",
   "nbconvert_exporter": "python",
   "pygments_lexer": "ipython3",
   "version": "3.12.7"
  }
 },
 "nbformat": 4,
 "nbformat_minor": 5
}
