{
 "cells": [
  {
   "cell_type": "code",
   "execution_count": 1,
   "id": "65965f42-0351-4c0e-b180-c5f5c23a5b6b",
   "metadata": {},
   "outputs": [
    {
     "name": "stdout",
     "output_type": "stream",
     "text": [
      "\n",
      "bill id:1001\n",
      "\n",
      "customer id:101\n",
      "\n",
      "bill amount:199.99\n"
     ]
    }
   ],
   "source": [
    "bill_id = 1001\n",
    "customer_id = 101\n",
    "bill_amount = 199.99\n",
    "\n",
    "print(f\"\\nbill id:{bill_id}\")\n",
    "print(f\"\\ncustomer id:{customer_id}\")\n",
    "print(f\"\\nbill amount:{bill_amount:.2f}\")"
   ]
  }
 ],
 "metadata": {
  "kernelspec": {
   "display_name": "Python 3 (ipykernel)",
   "language": "python",
   "name": "python3"
  },
  "language_info": {
   "codemirror_mode": {
    "name": "ipython",
    "version": 3
   },
   "file_extension": ".py",
   "mimetype": "text/x-python",
   "name": "python",
   "nbconvert_exporter": "python",
   "pygments_lexer": "ipython3",
   "version": "3.12.7"
  }
 },
 "nbformat": 4,
 "nbformat_minor": 5
}
