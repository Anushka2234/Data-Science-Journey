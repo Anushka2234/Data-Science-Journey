{
 "cells": [
  {
   "cell_type": "code",
   "execution_count": 2,
   "id": "e227886c-139f-45e7-8b7f-1d71fd2ff3bc",
   "metadata": {},
   "outputs": [
    {
     "name": "stdout",
     "output_type": "stream",
     "text": [
      "Time taken by the Lists to perform multiplication: 0.39353036880493164 seconds\n",
      "Time taken by Numpy Arrays to perform multiplication: 0.008149147033691406 seconds\n"
     ]
    }
   ],
   "source": [
    "#Why numpy\n",
    "import numpy\n",
    "import time\n",
    "\n",
    "size = 1000000\n",
    "\n",
    "list1 = range(size)\n",
    "list2 = range(size)\n",
    "\n",
    "array1 = numpy.arange(size)\n",
    "array2 = numpy.arange(size)\n",
    "\n",
    "initialTime = time.time()\n",
    "\n",
    "resultantList = [(a * b) for a,b in zip(list1, list2)]\n",
    "\n",
    "print(\"Time taken by the Lists to perform multiplication:\",\n",
    "      (time.time() - initialTime),\n",
    "      \"seconds\")\n",
    "initialTime = time.time()\n",
    "\n",
    "resultantArray = array1 * array2\n",
    "\n",
    "print(\"Time taken by Numpy Arrays to perform multiplication:\",\n",
    "      (time.time() - initialTime),\n",
    "      \"seconds\")"
   ]
  },
  {
   "cell_type": "code",
   "execution_count": 4,
   "id": "1b6bb602-db1a-4f57-ad77-f9978cce1879",
   "metadata": {},
   "outputs": [
    {
     "name": "stdout",
     "output_type": "stream",
     "text": [
      "list1 [1, 2, 3, 4, 5, 6]\n",
      "numpy array [1 2 3 4 5 6]\n"
     ]
    }
   ],
   "source": [
    "#numpy array with numbers\n",
    "import numpy as np\n",
    "list1 = [1,2,3,4,5,6]\n",
    "a = np.array(list1)\n",
    "\n",
    "print('list1',list1)\n",
    "print('numpy array',a)"
   ]
  },
  {
   "cell_type": "code",
   "execution_count": 5,
   "id": "18fd4ab7-495e-4fd3-8f4d-3c16a8350fd4",
   "metadata": {},
   "outputs": [
    {
     "name": "stdout",
     "output_type": "stream",
     "text": [
      "[1. 2. 3. 4. 5. 6.]\n",
      "[1.0, 2.0, 3.0, 4.0, 5.0, 6.0]\n"
     ]
    }
   ],
   "source": [
    "#converting array to list\n",
    "a = np.array(list1, dtype = float)\n",
    "print(a)\n",
    "\n",
    "list2 = list(a)\n",
    "list3 = a.tolist()\n",
    "print(list3)"
   ]
  },
  {
   "cell_type": "code",
   "execution_count": 6,
   "id": "179fcb22-3335-4c4a-8764-09a9b100061c",
   "metadata": {},
   "outputs": [
    {
     "data": {
      "text/plain": [
       "array([[ 1,  2,  3, 45],\n",
       "       [ 4,  5,  6, 56],\n",
       "       [41, 15,  1,  1]])"
      ]
     },
     "execution_count": 6,
     "metadata": {},
     "output_type": "execute_result"
    }
   ],
   "source": [
    "#2D Numpy array creation\n",
    "a = np.array([[1, 2, 3, 45],\n",
    "              [4, 5, 6, 56],\n",
    "              [41, 15, 1, 1]\n",
    "             ])\n",
    "a"
   ]
  },
  {
   "cell_type": "code",
   "execution_count": 9,
   "id": "e6618888-f5f0-46c2-9010-bf75d6f301d6",
   "metadata": {},
   "outputs": [
    {
     "data": {
      "text/plain": [
       "array([[[1, 2],\n",
       "        [3, 4]],\n",
       "\n",
       "       [[5, 6],\n",
       "        [7, 8]]])"
      ]
     },
     "execution_count": 9,
     "metadata": {},
     "output_type": "execute_result"
    }
   ],
   "source": [
    "#3D NumPy array creation\n",
    "a = np.array([[[1,2],\n",
    "               [3,4]],\n",
    "               [[5, 6],\n",
    "                [7, 8]]])\n",
    "a"
   ]
  },
  {
   "cell_type": "code",
   "execution_count": 10,
   "id": "9237e7f4-37ca-4885-be51-59c774ecf58c",
   "metadata": {},
   "outputs": [
    {
     "data": {
      "text/plain": [
       "2"
      ]
     },
     "execution_count": 10,
     "metadata": {},
     "output_type": "execute_result"
    }
   ],
   "source": [
    "a_list = [[[1,2,3],[3,4,5]],[[2,4,5],[6,7,8]]]\n",
    "len(a_list)"
   ]
  },
  {
   "cell_type": "code",
   "execution_count": 11,
   "id": "362bf062-4d97-47eb-ac9d-62836e0d073b",
   "metadata": {},
   "outputs": [
    {
     "name": "stdout",
     "output_type": "stream",
     "text": [
      "2\n",
      "2\n",
      "3\n"
     ]
    }
   ],
   "source": [
    "a_list = [[[1,2,3],[3,4,5]],[[2,4,5],[6,7,8]]]\n",
    "\n",
    "print(len(a_list))\n",
    "print(len(a_list[0]))\n",
    "print(len(a_list[0][0]))"
   ]
  },
  {
   "cell_type": "code",
   "execution_count": 12,
   "id": "c9cec5b1-e644-4f8c-b5d4-2f638923f5d9",
   "metadata": {},
   "outputs": [
    {
     "name": "stdout",
     "output_type": "stream",
     "text": [
      "(2, 2, 3)\n"
     ]
    }
   ],
   "source": [
    "a_list = [[[1,2,3],[3,4,5]],[[2,4,5],[6,7,8]]]\n",
    "\n",
    "a_array = np.array(a_list)\n",
    "print(a_array.shape)"
   ]
  },
  {
   "cell_type": "code",
   "execution_count": 14,
   "id": "063fedd7-87bc-4a8a-b725-7848aa251d1b",
   "metadata": {},
   "outputs": [
    {
     "name": "stdout",
     "output_type": "stream",
     "text": [
      "(745472,)\n",
      "(1024, 728)\n"
     ]
    },
    {
     "data": {
      "text/plain": [
       "(745472,)"
      ]
     },
     "execution_count": 14,
     "metadata": {},
     "output_type": "execute_result"
    }
   ],
   "source": [
    "#Generate numpy array od dimension 1024*728 = using reshape() function\n",
    "import numpy as np\n",
    "\n",
    "#a_array = np.array([i for i in range(1024)] for j in range(728)) \n",
    "\n",
    "a_array = np.arange(1024*728)\n",
    "a_array1 = a_array.reshape(1024,728)\n",
    "print(a_array.shape)\n",
    "print(a_array1.shape)\n",
    "a_array1.reshape(745472).shape\n"
   ]
  },
  {
   "cell_type": "code",
   "execution_count": 6,
   "id": "732513b1-7e85-4419-a57d-dc7cbce62d56",
   "metadata": {},
   "outputs": [
    {
     "name": "stdout",
     "output_type": "stream",
     "text": [
      "[0 1 2 3 4 5 6 7]\n",
      "[ 1  3  5  7  9 11 13]\n"
     ]
    }
   ],
   "source": [
    "a = np.arange(8)\n",
    "a.reshape(2,2,2)\n",
    "print(a)\n",
    "b = np.arange(1,14,2)\n",
    "print(b)"
   ]
  },
  {
   "cell_type": "code",
   "execution_count": 7,
   "id": "93f958fa-5e3c-4528-8ab2-650f642651b0",
   "metadata": {},
   "outputs": [
    {
     "name": "stdout",
     "output_type": "stream",
     "text": [
      "[1.         1.41421356 1.73205081 2.         2.23606798 2.44948974\n",
      " 2.64575131 2.82842712 3.        ]\n",
      "[2.71828183e+00 7.38905610e+00 2.00855369e+01 5.45981500e+01\n",
      " 1.48413159e+02 4.03428793e+02 1.09663316e+03 2.98095799e+03\n",
      " 8.10308393e+03]\n",
      "[0.         0.69314718 1.09861229 1.38629436 1.60943791 1.79175947\n",
      " 1.94591015 2.07944154 2.19722458]\n"
     ]
    }
   ],
   "source": [
    "b = np.array([1,2,3,4,5,6,7,8,9])\n",
    "print(np.sqrt(b))\n",
    "print(np.exp(b))\n",
    "print(np.log(b))"
   ]
  },
  {
   "cell_type": "code",
   "execution_count": 16,
   "id": "360cdf8b-6de6-45a9-ac79-ba99ea760b2a",
   "metadata": {},
   "outputs": [
    {
     "name": "stdout",
     "output_type": "stream",
     "text": [
      "[[0. 0. 0.]\n",
      " [0. 0. 0.]\n",
      " [0. 0. 0.]\n",
      " [0. 0. 0.]]\n"
     ]
    }
   ],
   "source": [
    "#Numpy Zero array\n",
    "zeros = np.zeros((4,3))\n",
    "print(zeros)"
   ]
  },
  {
   "cell_type": "code",
   "execution_count": 17,
   "id": "ef0934fd-7d51-48c8-9ab2-144c19a4839e",
   "metadata": {},
   "outputs": [
    {
     "name": "stdout",
     "output_type": "stream",
     "text": [
      "[[1. 1. 1.]\n",
      " [1. 1. 1.]\n",
      " [1. 1. 1.]\n",
      " [1. 1. 1.]]\n"
     ]
    }
   ],
   "source": [
    "ones = np.ones((4,3))\n",
    "print(ones)"
   ]
  },
  {
   "cell_type": "code",
   "execution_count": 18,
   "id": "29d3c1b1-8d06-4dd7-95e9-b88cae8a9d2c",
   "metadata": {},
   "outputs": [
    {
     "data": {
      "text/plain": [
       "array([[0., 0., 0.],\n",
       "       [0., 0., 0.]])"
      ]
     },
     "execution_count": 18,
     "metadata": {},
     "output_type": "execute_result"
    }
   ],
   "source": [
    "zeros[0:2]"
   ]
  },
  {
   "cell_type": "code",
   "execution_count": 20,
   "id": "f1653fb2-a370-43c8-b29a-760fc2ecb696",
   "metadata": {},
   "outputs": [
    {
     "name": "stdout",
     "output_type": "stream",
     "text": [
      "(3, 4)\n"
     ]
    },
    {
     "data": {
      "text/plain": [
       "array([[  2,  34],\n",
       "       [ 34, 566]])"
      ]
     },
     "execution_count": 20,
     "metadata": {},
     "output_type": "execute_result"
    }
   ],
   "source": [
    "a_array = np.array([[2,34,5,6],[34,566,879,5],[3,5,6,8]])\n",
    "print(a_array.shape)\n",
    "a_array[2,2]\n",
    "a_array[0:2,0:2]"
   ]
  },
  {
   "cell_type": "code",
   "execution_count": 23,
   "id": "fb2f7abe-19a9-4a58-9e05-fd733b3260d7",
   "metadata": {},
   "outputs": [
    {
     "name": "stdout",
     "output_type": "stream",
     "text": [
      "[3 4 5 6]\n",
      "[1 2 3]\n",
      "[ 6  7  8  9 10]\n",
      "[1 3 5 7 9]\n",
      "[ 8  9 10]\n"
     ]
    }
   ],
   "source": [
    "#Slicing of array based questions\n",
    "import numpy as np\n",
    "\n",
    "arr1d = np.array([1,2,3,4,5,6,7,8,9,10])\n",
    "\n",
    "print(arr1d[2:6])\n",
    "print(arr1d[:3])\n",
    "print(arr1d[5:])\n",
    "print(arr1d[::2])\n",
    "print(arr1d[-3:])"
   ]
  },
  {
   "cell_type": "code",
   "execution_count": 25,
   "id": "ea6b4123-065a-4875-abd8-ed298ec04631",
   "metadata": {},
   "outputs": [
    {
     "name": "stdout",
     "output_type": "stream",
     "text": [
      "5\n",
      "[[2 3]\n",
      " [5 6]]\n",
      "[2 5 8]\n"
     ]
    }
   ],
   "source": [
    "import numpy as np\n",
    "arr2d = np.array([[1,2,3],\n",
    "          [4,5,6],\n",
    "          [7,8,9]])\n",
    "print(arr2d[1,1])\n",
    "print(arr2d[:2,1:])\n",
    "print(arr2d[:,1])\n"
   ]
  },
  {
   "cell_type": "code",
   "execution_count": 4,
   "id": "366b4d88-7a1d-4f4d-88ef-b1ff5399b7ca",
   "metadata": {},
   "outputs": [
    {
     "name": "stdout",
     "output_type": "stream",
     "text": [
      "[0.14788162 0.97169475 0.97674913 0.24468444 0.50255444 0.07917373\n",
      " 0.9844702  0.81257134 0.61656092 0.9134919  0.21106956 0.8907774\n",
      " 0.06471225 0.99723671 0.59891674 0.53288378 0.64581899 0.18480165\n",
      " 0.20843711 0.2682738 ]\n"
     ]
    }
   ],
   "source": [
    "#Numpy Array of random Numbers\n",
    "import numpy as np\n",
    "data = np.random.random(20)\n",
    "print(data)"
   ]
  },
  {
   "cell_type": "code",
   "execution_count": 29,
   "id": "d53d7b5b-6406-461d-838c-5b1631550204",
   "metadata": {},
   "outputs": [
    {
     "name": "stdout",
     "output_type": "stream",
     "text": [
      "[0.03614155 0.4164488  0.28601416 0.11475864 0.49599232 0.16033951\n",
      " 0.68390597 0.88449955 0.9513864  0.61501481 0.95539426 0.31022529\n",
      " 0.4334928  0.0992198  0.91429235 0.94537748 0.9018407  0.9124656\n",
      " 0.34273575 0.87906436]\n",
      "[[0.11455389 0.26538895 0.36087542]\n",
      " [0.50908778 0.23610189 0.29449116]]\n",
      "[[[0.58116987 0.67623325 0.07041068 0.30484696]\n",
      "  [0.89109634 0.78058338 0.35731801 0.74603506]\n",
      "  [0.43092378 0.84464495 0.49766974 0.39557357]]\n",
      "\n",
      " [[0.03660205 0.59027113 0.12340289 0.67732493]\n",
      "  [0.46181461 0.48541948 0.91263422 0.45105563]\n",
      "  [0.80925747 0.74330182 0.83531625 0.89282233]]]\n",
      "(2, 3)\n",
      "6\n"
     ]
    }
   ],
   "source": [
    "#use of rand function\n",
    "data1 = np.random.rand(20)\n",
    "data2 = np.random.rand(2,3)\n",
    "data3 = np.random.rand(2,3,4)\n",
    "\n",
    "print(data1)\n",
    "print(data2)\n",
    "print(data3)\n",
    "print(data2.shape)\n",
    "print(data2.size)"
   ]
  },
  {
   "cell_type": "code",
   "execution_count": 30,
   "id": "5a755392-fd96-40ad-9dac-f4183505e77c",
   "metadata": {},
   "outputs": [
    {
     "name": "stdout",
     "output_type": "stream",
     "text": [
      "[[-2.19859471 -0.92240695  0.29199438]\n",
      " [-2.35145419 -1.83937813 -0.47787434]]\n"
     ]
    }
   ],
   "source": [
    "data = np.random.randn(2,3)\n",
    "print(data)"
   ]
  },
  {
   "cell_type": "code",
   "execution_count": 31,
   "id": "4dee6914-4091-4265-b163-f0ec694cd2d2",
   "metadata": {},
   "outputs": [
    {
     "name": "stdout",
     "output_type": "stream",
     "text": [
      "[ 9 -9 16 -8 16]\n"
     ]
    }
   ],
   "source": [
    "#use of randint\n",
    "data = np.random.randint(-10,20,5)\n",
    "print(data)"
   ]
  },
  {
   "cell_type": "code",
   "execution_count": 32,
   "id": "8842d34a-9262-42f4-8604-813ed39b7b4b",
   "metadata": {},
   "outputs": [
    {
     "name": "stdout",
     "output_type": "stream",
     "text": [
      "[[[10  1 18]\n",
      "  [18 13  8]]\n",
      "\n",
      " [[17 17 13]\n",
      "  [12  6 15]]\n",
      "\n",
      " [[17 13 15]\n",
      "  [ 1  1  2]]\n",
      "\n",
      " [[ 3  3  9]\n",
      "  [ 2  4 15]]]\n"
     ]
    }
   ],
   "source": [
    "data = np.random.randint(1,20,(4,2,3))\n",
    "print(data)"
   ]
  },
  {
   "cell_type": "code",
   "execution_count": 33,
   "id": "7a3d23cf-3a69-4900-a595-abd53d44a004",
   "metadata": {},
   "outputs": [
    {
     "name": "stdout",
     "output_type": "stream",
     "text": [
      "[ 1.    3.25  5.5   7.75 10.  ]\n"
     ]
    }
   ],
   "source": [
    "data = np.linspace(1,10,5)\n",
    "print(data)"
   ]
  },
  {
   "cell_type": "code",
   "execution_count": 34,
   "id": "6df6c79a-0343-4778-a866-6399e7ed55c2",
   "metadata": {},
   "outputs": [
    {
     "name": "stdout",
     "output_type": "stream",
     "text": [
      "[1 6]\n"
     ]
    }
   ],
   "source": [
    "data = np.arange(1,10,5)\n",
    "print(data)"
   ]
  },
  {
   "cell_type": "code",
   "execution_count": 38,
   "id": "1f3fb0e6-0e1f-4f89-8c4a-c1f531708f52",
   "metadata": {},
   "outputs": [
    {
     "name": "stdout",
     "output_type": "stream",
     "text": [
      "[[0. 0. 0. 0. 0.]\n",
      " [0. 0. 0. 0. 0.]\n",
      " [0. 0. 0. 0. 0.]\n",
      " [0. 0. 0. 0. 0.]]\n",
      "[[1. 1. 1. 1. 1. 1.]\n",
      " [1. 1. 1. 1. 1. 1.]\n",
      " [1. 1. 1. 1. 1. 1.]]\n",
      "[[ 0.86375177 -0.06588448  0.26532281  1.9591101   0.28253601  0.10297784\n",
      "   1.76421821 -0.439687    1.10527047  2.47349885]\n",
      " [ 0.39568808 -0.0250097   0.79876735  0.24175384 -1.36477975  0.74891239\n",
      "  -0.6680552  -0.83438341  1.02143095  0.06393077]]\n",
      "[[377 241 491]\n",
      " [499 453 333]\n",
      " [302 412 271]\n",
      " [250 312 444]\n",
      " [419 432 230]\n",
      " [385 262 483]]\n"
     ]
    }
   ],
   "source": [
    "#Exercise1\n",
    "zeros = np.zeros((4,5))\n",
    "print(zeros)\n",
    "ones = np.ones((3,6))\n",
    "print(ones)\n",
    "data = np.random.randn(2,10)\n",
    "print(data)\n",
    "data2 = np.random.randint(230,500,(6,3))\n",
    "print(data2)\n"
   ]
  },
  {
   "cell_type": "code",
   "execution_count": 40,
   "id": "121551ae-bf22-49e4-8382-c6a99bcd8800",
   "metadata": {},
   "outputs": [
    {
     "name": "stdout",
     "output_type": "stream",
     "text": [
      "[[ 1.10574407 -0.1950674  -0.90923821  0.39044191 -0.14402268]\n",
      " [ 0.6436056   1.75289601 -0.40206469 -1.33921992  0.13305882]\n",
      " [-0.55303573  3.65238534  0.82955949 -0.1989755  -1.36879449]\n",
      " [ 0.14461014 -1.39912248 -1.43255071 -0.52648258  0.94314703]]\n"
     ]
    }
   ],
   "source": [
    "#Generate a random float values of a guassian pdf for the dimension(4,5)\n",
    "data = np.random.randn(4,5)\n",
    "print(data)"
   ]
  },
  {
   "cell_type": "code",
   "execution_count": 42,
   "id": "edf74924-e0f3-4391-bd73-1f3e184d115a",
   "metadata": {},
   "outputs": [
    {
     "name": "stdout",
     "output_type": "stream",
     "text": [
      "[[15 16 21 17  4]\n",
      " [20 15 22 17 12]\n",
      " [15 12  6  9 10]\n",
      " [22 18 11 16  2]]\n"
     ]
    }
   ],
   "source": [
    "data = np.random.randint(2,23,(4,5))\n",
    "print(data)"
   ]
  },
  {
   "cell_type": "code",
   "execution_count": 46,
   "id": "98044bfc-c723-4335-bb0c-e2d182868fa8",
   "metadata": {},
   "outputs": [
    {
     "name": "stdout",
     "output_type": "stream",
     "text": [
      "[ 77.08940811  55.66909523 134.8535558  125.40979674 132.43927203\n",
      " 134.59716581 164.016807   113.74550913 143.47462382 159.24527965\n",
      "  69.40834502  29.4288227  156.44163387  38.26190744  39.82946536\n",
      " 114.43584182  98.04889728 196.37973995  61.92890934  61.82270027]\n",
      "[-0.44373636  0.352348    1.79094774 -0.18322977  1.21954355 -0.10496133\n",
      "  0.82225035 -0.67225269 -0.5537186  -0.73368286 -0.37827315  1.7562241\n",
      " -0.85923679 -2.47658994  1.76959814 -0.35365175  0.58427815  0.1899882\n",
      " -1.14295266 -1.38254807]\n",
      "[105.74350649 139.32146073 200.         116.73138493 175.89880588\n",
      " 120.03266116 159.14141981  96.10494125 101.10457761  93.51388503\n",
      " 108.50467192 198.53539565  88.21815971  20.         199.09949769\n",
      " 109.54317543 149.10401669 132.4733046   76.25133949  66.14547089]\n"
     ]
    }
   ],
   "source": [
    "#Generate random floating value using randn() for the range between 20 to 200 of 1D array(size = 20)\n",
    "scaled_number = 20+(200-20)*np.random.rand(20)\n",
    "print(scaled_number)\n",
    "original = np.random.randn(20)\n",
    "print(original)\n",
    "scaled_number = 20+(200-20)*((original - original.min())/(original.max()-original.min()))\n",
    "print(scaled_number)"
   ]
  },
  {
   "cell_type": "code",
   "execution_count": 2,
   "id": "143cd809-a299-4cb1-b121-72f209f9b528",
   "metadata": {},
   "outputs": [
    {
     "data": {
      "text/plain": [
       "array([[15, 15, 15],\n",
       "       [15, 15, 15],\n",
       "       [15, 15, 15]])"
      ]
     },
     "execution_count": 2,
     "metadata": {},
     "output_type": "execute_result"
    }
   ],
   "source": [
    "#creating matrix filled with same value\n",
    "import numpy as np\n",
    "np.full((3,3), fill_value=15)"
   ]
  },
  {
   "cell_type": "code",
   "execution_count": 5,
   "id": "e2079490-08bf-4fc8-9177-220e1600e427",
   "metadata": {},
   "outputs": [
    {
     "data": {
      "text/plain": [
       "array([[1., 0., 0., 0.],\n",
       "       [0., 1., 0., 0.],\n",
       "       [0., 0., 1., 0.],\n",
       "       [0., 0., 0., 1.]])"
      ]
     },
     "execution_count": 5,
     "metadata": {},
     "output_type": "execute_result"
    }
   ],
   "source": [
    "#create identity matrix\n",
    "np.identity(4)"
   ]
  },
  {
   "cell_type": "code",
   "execution_count": 9,
   "id": "3f07344c-aec1-4fb8-9921-c9ae362a5919",
   "metadata": {},
   "outputs": [
    {
     "name": "stdout",
     "output_type": "stream",
     "text": [
      "[  1.     4.96   8.92  12.88  16.84  20.8   24.76  28.72  32.68  36.64\n",
      "  40.6   44.56  48.52  52.48  56.44  60.4   64.36  68.32  72.28  76.24\n",
      "  80.2   84.16  88.12  92.08  96.04 100.  ]\n",
      "[ 50  53  56  59  62  65  68  71  74  77  80  83  86  89  92  95  98 101\n",
      " 104 107 110 113 116 119 122 125 128 131 134 137 140 143 146 149]\n"
     ]
    },
    {
     "data": {
      "text/plain": [
       "array([[1., 0., 0., 0.],\n",
       "       [0., 1., 0., 0.],\n",
       "       [0., 0., 1., 0.]])"
      ]
     },
     "execution_count": 9,
     "metadata": {},
     "output_type": "execute_result"
    }
   ],
   "source": [
    "data1 = np.linspace(1,100,26)\n",
    "print(data1)\n",
    "data2 = np.arange(50,150,3)\n",
    "print(data2)\n",
    "np.full((5,5),fill_value=27)\n",
    "np.eye(3,4)"
   ]
  },
  {
   "cell_type": "code",
   "execution_count": 14,
   "id": "3d780dd1-e04a-4e74-b02d-d971eef258c0",
   "metadata": {},
   "outputs": [
    {
     "name": "stdout",
     "output_type": "stream",
     "text": [
      "-5.999999999999998\n",
      "[[ 0.5        -2.5         1.        ]\n",
      " [-1.          3.         -1.        ]\n",
      " [ 0.83333333 -1.16666667  0.33333333]]\n",
      "EigResult(eigenvalues=array([12.76498204, -2.        ,  0.23501796]), eigenvectors=array([[-2.89582287e-01, -7.07106781e-01,  5.82151548e-01],\n",
      "       [-3.97183873e-01, -3.05058243e-16, -7.37185496e-01],\n",
      "       [-8.70854219e-01,  7.07106781e-01,  3.43011837e-01]]))\n"
     ]
    }
   ],
   "source": [
    "mata = np.array([[1,2,3],\n",
    "                 [3,4,3],\n",
    "                 [8,9,6]])\n",
    "det_a = np.linalg.det(mata)\n",
    "print(det_a)\n",
    "inv_a = np.linalg.inv(mata)\n",
    "print(inv_a)\n",
    "eig_a = np.linalg.eig(mata)\n",
    "print(eig_a)"
   ]
  },
  {
   "cell_type": "code",
   "execution_count": 16,
   "id": "9d1d6457-fec9-4b3b-8052-0583c14b3f87",
   "metadata": {},
   "outputs": [
    {
     "name": "stdout",
     "output_type": "stream",
     "text": [
      "-2.0000000000000004\n",
      "[[-2.   1. ]\n",
      " [ 1.5 -0.5]]\n"
     ]
    }
   ],
   "source": [
    "matrix = np.array([[1,2],\n",
    "                   [3,4]])\n",
    "det = np.linalg.det(matrix)\n",
    "inverse = None\n",
    "if det!=0:\n",
    "    inverse = np.linalg.inv(matrix)\n",
    "print(det)\n",
    "print(inverse)"
   ]
  },
  {
   "cell_type": "code",
   "execution_count": 18,
   "id": "54257c54-6e23-4f85-84d7-4f39d838334c",
   "metadata": {},
   "outputs": [
    {
     "name": "stdout",
     "output_type": "stream",
     "text": [
      "[False False  True  True]\n"
     ]
    }
   ],
   "source": [
    "a = np.array([1,2,3,4])\n",
    "bool_a = a>2\n",
    "print(bool_a)\n"
   ]
  },
  {
   "cell_type": "code",
   "execution_count": 19,
   "id": "615d907d-a6df-4376-9a8c-eaaf782b39ae",
   "metadata": {},
   "outputs": [
    {
     "name": "stdout",
     "output_type": "stream",
     "text": [
      "[40 50 60]\n",
      "[10 20 30 40 50 60]\n"
     ]
    }
   ],
   "source": [
    "arr = np.array([10,20,30,40,50,60])\n",
    "print(arr[arr>30])\n",
    "print(arr[arr%2==0])"
   ]
  },
  {
   "cell_type": "code",
   "execution_count": 22,
   "id": "e2bbc1d5-4ab5-4486-bf56-4bcd1858454e",
   "metadata": {},
   "outputs": [
    {
     "name": "stdout",
     "output_type": "stream",
     "text": [
      "[[ 296.33333333  449.         -168.83333333]\n",
      " [ 449.          831.          170.5       ]\n",
      " [-168.83333333  170.5        1302.33333333]]\n"
     ]
    }
   ],
   "source": [
    "\"\"\" calculate the covariance of a 3*3 matrix\"\"\"\n",
    "matrix = np.array([[10, 2, 35], [41, 5, 62], [71, 8, 9]])\n",
    "print(np.cov(matrix))"
   ]
  },
  {
   "cell_type": "code",
   "execution_count": 24,
   "id": "2de407ab-bee4-4124-b037-4ffefaac9de4",
   "metadata": {},
   "outputs": [
    {
     "name": "stdout",
     "output_type": "stream",
     "text": [
      "[2.2 2.6]\n",
      "[ 7. 10.]\n"
     ]
    }
   ],
   "source": [
    "A = np.array([[2,1],[1,3]])\n",
    "b = np.array([7,10])\n",
    "x = np.linalg.solve(A,b)\n",
    "print(x)\n",
    "print(np.dot(A,x))\n"
   ]
  },
  {
   "cell_type": "code",
   "execution_count": null,
   "id": "6b7acb73-ba04-4d08-8aae-2083591b3c80",
   "metadata": {},
   "outputs": [],
   "source": []
  }
 ],
 "metadata": {
  "kernelspec": {
   "display_name": "Python 3 (ipykernel)",
   "language": "python",
   "name": "python3"
  },
  "language_info": {
   "codemirror_mode": {
    "name": "ipython",
    "version": 3
   },
   "file_extension": ".py",
   "mimetype": "text/x-python",
   "name": "python",
   "nbconvert_exporter": "python",
   "pygments_lexer": "ipython3",
   "version": "3.12.7"
  }
 },
 "nbformat": 4,
 "nbformat_minor": 5
}
