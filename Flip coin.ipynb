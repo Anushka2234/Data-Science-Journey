{
 "cells": [
  {
   "cell_type": "code",
   "execution_count": 7,
   "id": "31a70ce1-e044-4671-ab94-b47c4bd017fa",
   "metadata": {},
   "outputs": [
    {
     "name": "stdout",
     "output_type": "stream",
     "text": [
      "Heads Count 4\n",
      "Tails Count 6\n"
     ]
    }
   ],
   "source": [
    "import random\n",
    "heads_count = 0\n",
    "tails_count = 0\n",
    "for _ in range(10):\n",
    "    flip = random.choice([\"Heads\",\"tails\"])\n",
    "    if flip == \"Heads\":\n",
    "        heads_count+=1\n",
    "    else:\n",
    "        tails_count+=1\n",
    "print(\"Heads Count\" , heads_count)\n",
    "print(\"Tails Count\", tails_count)"
   ]
  }
 ],
 "metadata": {
  "kernelspec": {
   "display_name": "Python 3 (ipykernel)",
   "language": "python",
   "name": "python3"
  },
  "language_info": {
   "codemirror_mode": {
    "name": "ipython",
    "version": 3
   },
   "file_extension": ".py",
   "mimetype": "text/x-python",
   "name": "python",
   "nbconvert_exporter": "python",
   "pygments_lexer": "ipython3",
   "version": "3.12.7"
  }
 },
 "nbformat": 4,
 "nbformat_minor": 5
}
