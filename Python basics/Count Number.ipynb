{
 "cells": [
  {
   "cell_type": "code",
   "execution_count": 5,
   "id": "c9b671f4-328d-4193-ae35-081c54e7420b",
   "metadata": {},
   "outputs": [
    {
     "name": "stdout",
     "output_type": "stream",
     "text": [
      "16\n"
     ]
    }
   ],
   "source": [
    "file = \"Sample2.txt\"\n",
    "with open(file , \"r\" ,encoding = \"utf-8\") as file:\n",
    "    text = file.read()\n",
    "    words = text.split()\n",
    "    word_count = len(words)\n",
    "print(word_count)"
   ]
  }
 ],
 "metadata": {
  "kernelspec": {
   "display_name": "Python 3 (ipykernel)",
   "language": "python",
   "name": "python3"
  },
  "language_info": {
   "codemirror_mode": {
    "name": "ipython",
    "version": 3
   },
   "file_extension": ".py",
   "mimetype": "text/x-python",
   "name": "python",
   "nbconvert_exporter": "python",
   "pygments_lexer": "ipython3",
   "version": "3.12.7"
  }
 },
 "nbformat": 4,
 "nbformat_minor": 5
}
