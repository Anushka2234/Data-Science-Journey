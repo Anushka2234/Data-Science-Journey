{
 "cells": [
  {
   "cell_type": "code",
   "execution_count": 2,
   "id": "00b52a66-d0d7-46ec-bd3a-8b35b8995125",
   "metadata": {},
   "outputs": [
    {
     "name": "stdout",
     "output_type": "stream",
     "text": [
      "Employee Id 1001\n",
      "Basic Salary 15000.0\n",
      "Allowances 6000.0\n",
      "Gross Salary 21000.0\n",
      "Income Tax 6300.0\n",
      "Net Salary 14700.0\n"
     ]
    }
   ],
   "source": [
    "employee_id = 1001\n",
    "basic_salary = 15000.00\n",
    "allowances = 6000.00\n",
    "\n",
    "gross_salary = basic_salary + allowances\n",
    "\n",
    "if gross_salary <= 5000:\n",
    "    income_tax_percentage = 0\n",
    "elif gross_salary <= 10000:\n",
    "    income_tax_percentage = 10\n",
    "elif gross_salary <= 15000:\n",
    "    income_tax_percentage = 20\n",
    "else:\n",
    "    income_tax_percentage = 30\n",
    "\n",
    "income_tax = (income_tax_percentage/100)*gross_salary\n",
    "net_salary = gross_salary - income_tax\n",
    "\n",
    "print(\"Employee Id\" , employee_id)\n",
    "print(\"Basic Salary\" , basic_salary)\n",
    "print(\"Allowances\" , allowances)\n",
    "print(\"Gross Salary\", gross_salary)\n",
    "print(\"Income Tax\", income_tax)\n",
    "print(\"Net Salary\", net_salary)"
   ]
  }
 ],
 "metadata": {
  "kernelspec": {
   "display_name": "Python 3 (ipykernel)",
   "language": "python",
   "name": "python3"
  },
  "language_info": {
   "codemirror_mode": {
    "name": "ipython",
    "version": 3
   },
   "file_extension": ".py",
   "mimetype": "text/x-python",
   "name": "python",
   "nbconvert_exporter": "python",
   "pygments_lexer": "ipython3",
   "version": "3.12.7"
  }
 },
 "nbformat": 4,
 "nbformat_minor": 5
}
