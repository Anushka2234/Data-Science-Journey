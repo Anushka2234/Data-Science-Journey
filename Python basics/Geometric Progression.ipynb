{
 "cells": [
  {
   "cell_type": "code",
   "execution_count": 6,
   "id": "7f59ef9b-051b-49eb-9f02-75a8d670c33a",
   "metadata": {},
   "outputs": [
    {
     "name": "stdin",
     "output_type": "stream",
     "text": [
      "Enter the starting Number 1\n",
      "Enter the number of terms 4\n"
     ]
    },
    {
     "name": "stdout",
     "output_type": "stream",
     "text": [
      "The sum of Geometric Progression sequence is 15.0\n"
     ]
    }
   ],
   "source": [
    "start= int(input(\"Enter the starting Number\"))\n",
    "n = int(input(\"Enter the number of terms\"))\n",
    "total = 0\n",
    "for i in range(start,start+n):\n",
    "    total+=(i*i)/2\n",
    "print(\"The sum of Geometric Progression sequence is\", total)"
   ]
  }
 ],
 "metadata": {
  "kernelspec": {
   "display_name": "Python 3 (ipykernel)",
   "language": "python",
   "name": "python3"
  },
  "language_info": {
   "codemirror_mode": {
    "name": "ipython",
    "version": 3
   },
   "file_extension": ".py",
   "mimetype": "text/x-python",
   "name": "python",
   "nbconvert_exporter": "python",
   "pygments_lexer": "ipython3",
   "version": "3.12.7"
  }
 },
 "nbformat": 4,
 "nbformat_minor": 5
}
