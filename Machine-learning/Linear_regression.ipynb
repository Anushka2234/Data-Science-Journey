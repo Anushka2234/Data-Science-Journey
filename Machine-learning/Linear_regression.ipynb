{
 "cells": [
  {
   "cell_type": "code",
   "execution_count": 1,
   "id": "bf384d0f-2186-47f5-a9be-1b7cd2dbd0de",
   "metadata": {},
   "outputs": [],
   "source": [
    "import numpy as np\n",
    "import pandas as pd\n",
    "import matplotlib.pyplot as plt\n",
    "from sklearn.linear_model import LinearRegression\n",
    "from sklearn.model_selection import train_test_split"
   ]
  },
  {
   "cell_type": "code",
   "execution_count": 2,
   "id": "f216e727-f5dc-42a5-8e03-ecd7819578b0",
   "metadata": {},
   "outputs": [],
   "source": [
    "np.random.seed(1)\n",
    "budget = np.random.randint(50, 200, 50)\n",
    "box_office = budget * np.random.uniform(1.5, 2.5, 50)\n",
    "rating = 0.03 * budget + 0.01 * box_office + np.random.normal(0, 1, 50)\n",
    "\n",
    "df = pd.DataFrame({\n",
    "    'Budget': budget,\n",
    "    'BoxOffice': box_office,\n",
    "    'Rating': rating\n",
    "})"
   ]
  },
  {
   "cell_type": "code",
   "execution_count": null,
   "id": "54558ade-add8-4128-a1a4-db889ad2f664",
   "metadata": {},
   "outputs": [],
   "source": [
    "#Simple linear regression\n",
    "X_simple = df[['Budget']]\n",
    "y = df['Rating']\n",
    "X_train_s, X_test_s, y_train_s, y_test_s = train_test_split(X_simple, y, test_size=0.2, random_state=1)\n",
    "model_simple = LinearRegression()\n",
    "model_simple.fit(X_train_s,y_train_s)\n",
    "y_predict_s=model_simple.predict(X_test_s)"
   ]
  }
 ],
 "metadata": {
  "kernelspec": {
   "display_name": "Python 3 (ipykernel)",
   "language": "python",
   "name": "python3"
  },
  "language_info": {
   "codemirror_mode": {
    "name": "ipython",
    "version": 3
   },
   "file_extension": ".py",
   "mimetype": "text/x-python",
   "name": "python",
   "nbconvert_exporter": "python",
   "pygments_lexer": "ipython3",
   "version": "3.12.7"
  }
 },
 "nbformat": 4,
 "nbformat_minor": 5
}
