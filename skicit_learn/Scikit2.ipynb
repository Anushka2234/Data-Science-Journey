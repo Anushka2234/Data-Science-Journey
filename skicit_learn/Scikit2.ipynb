{
 "cells": [
  {
   "cell_type": "code",
   "execution_count": 1,
   "id": "1f3c72c4-f057-480f-952f-d2bf6288a26f",
   "metadata": {},
   "outputs": [],
   "source": [
    "import numpy as np\n",
    "import matplotlib.pyplot as plt\n",
    "from sklearn.metrics import(\n",
    "confusion_matrix,\n",
    "accuracy_score,\n",
    "precision_score,\n",
    "recall_score,\n",
    "f1_score,\n",
    ")"
   ]
  },
  {
   "cell_type": "code",
   "execution_count": 2,
   "id": "f9638197-07ae-4e6c-bad4-96ff7a89947e",
   "metadata": {},
   "outputs": [],
   "source": [
    "y_true = [0,0,1,1,0,1,0,1,1,0] #10 emails\n",
    "y_pred = [0,1,1,1,0,1,0,0,1,0] #Predicted"
   ]
  },
  {
   "cell_type": "code",
   "execution_count": 4,
   "id": "ad1618fb-57f9-4154-8486-d64bed97c798",
   "metadata": {},
   "outputs": [
    {
     "name": "stdout",
     "output_type": "stream",
     "text": [
      "Confusion matrix:\n",
      " [[4 1]\n",
      " [1 4]] \n",
      "\n",
      "Counts:\n",
      " TP(True Positives): 4\n",
      " FP(False Positives): 1\n",
      " FN(False Negatives): 1\n",
      " TN(True Negatives): 4\n",
      "\n"
     ]
    }
   ],
   "source": [
    "cm = confusion_matrix(y_true, y_pred, labels=[0,1])\n",
    "TN, FP, FN, TP = cm.ravel()\n",
    "\n",
    "print(\"Confusion matrix:\\n\", cm, \"\\n\")\n",
    "print(\"Counts:\")\n",
    "print(f\" TP(True Positives): {TP}\")\n",
    "print(f\" FP(False Positives): {FP}\")\n",
    "print(f\" FN(False Negatives): {FN}\")\n",
    "print(f\" TN(True Negatives): {TN}\\n\")"
   ]
  },
  {
   "cell_type": "code",
   "execution_count": 5,
   "id": "3d711688-3b63-4b23-a515-2e9dcfa06763",
   "metadata": {},
   "outputs": [
    {
     "name": "stdout",
     "output_type": "stream",
     "text": [
      "Metrics:\n",
      "Accuracy: 0.80\n",
      "Precision: 0.80\n",
      "Recall: 0.80\n",
      "F1 Score: 0.80\n"
     ]
    }
   ],
   "source": [
    "print(\"Metrics:\")\n",
    "print(f\"Accuracy: {accuracy_score(y_true, y_pred):.2f}\")\n",
    "print(f\"Precision: {precision_score(y_true, y_pred):.2f}\")\n",
    "print(f\"Recall: {recall_score(y_true, y_pred):.2f}\")\n",
    "print(f\"F1 Score: {f1_score(y_true, y_pred):.2f}\")"
   ]
  },
  {
   "cell_type": "code",
   "execution_count": 6,
   "id": "f1c0200e-cb0d-474f-ba1d-9557fc3d87e4",
   "metadata": {},
   "outputs": [
    {
     "data": {
      "image/png": "[encoded data removed]",
      "text/plain": [
       "<Figure size 500x400 with 1 Axes>"
      ]
     },
     "metadata": {},
     "output_type": "display_data"
    }
   ],
   "source": [
    "fig, ax = plt.subplots(figsize=(5,4))\n",
    "im = ax.imshow(cm)\n",
    "ax.set_xticks(np.arange(2))\n",
    "ax.set_yticks(np.arange(2))\n",
    "ax.set_xticklabels([\"Not Spam\", \"Spam\"])\n",
    "ax.set_yticklabels([\"Not Spam\", \"Spam\"])\n",
    "ax.set_xlabel(\"Predicted label\")\n",
    "ax.set_ylabel(\"True label\")\n",
    "ax.set_title(\"Confusion Matrix - Spam Classifier\")\n",
    "\n",
    "#annotate each cell with its count\n",
    "for i in range(cm.shape[0]):\n",
    "    for j in range(cm.shape[1]):\n",
    "        ax.text(j, i, cm[i, j],\n",
    "                ha=\"center\",va=\"center\",color=\"white\", fontweight=\"bold\")"
   ]
  },
  {
   "cell_type": "code",
   "execution_count": null,
   "id": "b2c5386b-edd4-4499-b846-b2c35b7ab4e5",
   "metadata": {},
   "outputs": [],
   "source": [
    " "
   ]
  }
 ],
 "metadata": {
  "kernelspec": {
   "display_name": "Python 3 (ipykernel)",
   "language": "python",
   "name": "python3"
  },
  "language_info": {
   "codemirror_mode": {
    "name": "ipython",
    "version": 3
   },
   "file_extension": ".py",
   "mimetype": "text/x-python",
   "name": "python",
   "nbconvert_exporter": "python",
   "pygments_lexer": "ipython3",
   "version": "3.12.7"
  }
 },
 "nbformat": 4,
 "nbformat_minor": 5
}
