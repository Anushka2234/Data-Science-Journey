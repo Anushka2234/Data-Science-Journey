{
 "cells": [
  {
   "cell_type": "code",
   "execution_count": 4,
   "id": "aa676f14-6561-40fb-ac5b-120abf5bf5aa",
   "metadata": {},
   "outputs": [
    {
     "name": "stdout",
     "output_type": "stream",
     "text": [
      "Unigram Features:\n",
      "   amazing  bad  customer  good  hate  important  is  learning  love  machine  \\\n",
      "0        0    0         0     0     0          0   0         1     1        1   \n",
      "1        1    0         0     0     0          0   1         1     0        1   \n",
      "2        0    1         1     0     1          0   0         0     0        0   \n",
      "3        0    0         1     1     0          1   1         0     0        0   \n",
      "\n",
      "   service  \n",
      "0        0  \n",
      "1        0  \n",
      "2        1  \n",
      "3        1  \n"
     ]
    },
    {
     "ename": "NameError",
     "evalue": "name 'vectroizer_bi' is not defined",
     "output_type": "error",
     "traceback": [
      "\u001b[1;31m---------------------------------------------------------------------------\u001b[0m",
      "\u001b[1;31mNameError\u001b[0m                                 Traceback (most recent call last)",
      "Cell \u001b[1;32mIn[4], line 22\u001b[0m\n\u001b[0;32m     20\u001b[0m \u001b[38;5;66;03m#Bigram(2,2)\u001b[39;00m\n\u001b[0;32m     21\u001b[0m vectrozier_bi \u001b[38;5;241m=\u001b[39m CountVectorizer(ngram_range\u001b[38;5;241m=\u001b[39m(\u001b[38;5;241m2\u001b[39m,\u001b[38;5;241m2\u001b[39m))\n\u001b[1;32m---> 22\u001b[0m X_bi \u001b[38;5;241m=\u001b[39m vectroizer_bi\u001b[38;5;241m.\u001b[39mfit_transform(documents)\n\u001b[0;32m     24\u001b[0m df_bi \u001b[38;5;241m=\u001b[39m pd\u001b[38;5;241m.\u001b[39mDataFrame(X_bi\u001b[38;5;241m.\u001b[39mtoarray(), columns\u001b[38;5;241m=\u001b[39mvectorizer_bi\u001b[38;5;241m.\u001b[39mget_feature_names_out())\n\u001b[0;32m     25\u001b[0m \u001b[38;5;28mprint\u001b[39m(\u001b[38;5;124m\"\u001b[39m\u001b[38;5;124mBigram Features:\u001b[39m\u001b[38;5;124m\"\u001b[39m)\n",
      "\u001b[1;31mNameError\u001b[0m: name 'vectroizer_bi' is not defined"
     ]
    }
   ],
   "source": [
    "#Sample Data\n",
    "documents = [\n",
    "    \"I Love machine learning\",\n",
    "    \"Machine learning is amazing\",\n",
    "    \"I hate bad customer service\",\n",
    "    \"Good customer service is important\",]\n",
    "labels = [\"positive\",\"positive\",\"negative\",\"positive\"]\n",
    "from sklearn.feature_extraction.text import CountVectorizer\n",
    "import pandas as pd\n",
    "\n",
    "#Unigram\n",
    "vectroizer_uni = CountVectorizer(ngram_range=(1,1))\n",
    "X_uni = vectroizer_uni.fit_transform(documents)\n",
    "\n",
    "#convert to dataframe for visualization\n",
    "df_uni = pd.DataFrame(X_uni.toarray(), columns=vectroizer_uni.get_feature_names_out())\n",
    "print(\"Unigram Features:\")\n",
    "print(df_uni)\n",
    "\n",
    "#Bigram(2,2)\n",
    "vectrozier_bi = CountVectorizer(ngram_range=(2,2))\n",
    "X_bi = vectroizer_bi.fit_transform(documents)\n",
    "\n",
    "df_bi = pd.DataFrame(X_bi.toarray(), columns=vectorizer_bi.get_feature_names_out())\n",
    "print(\"Bigram Features:\")\n",
    "print(df_bi)"
   ]
  },
  {
   "cell_type": "code",
   "execution_count": null,
   "id": "b94a00d5-a807-4fc9-aa47-1a2d0b65cccc",
   "metadata": {},
   "outputs": [],
   "source": []
  }
 ],
 "metadata": {
  "kernelspec": {
   "display_name": "Python 3 (ipykernel)",
   "language": "python",
   "name": "python3"
  },
  "language_info": {
   "codemirror_mode": {
    "name": "ipython",
    "version": 3
   },
   "file_extension": ".py",
   "mimetype": "text/x-python",
   "name": "python",
   "nbconvert_exporter": "python",
   "pygments_lexer": "ipython3",
   "version": "3.12.7"
  }
 },
 "nbformat": 4,
 "nbformat_minor": 5
}
