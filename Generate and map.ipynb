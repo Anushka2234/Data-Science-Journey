{
 "cells": [
  {
   "cell_type": "code",
   "execution_count": 5,
   "id": "9d0b9ede-4745-4e3a-b8a4-805a6e566655",
   "metadata": {},
   "outputs": [
    {
     "name": "stdout",
     "output_type": "stream",
     "text": [
      "File 'random number generator' created successfully.\n"
     ]
    }
   ],
   "source": [
    "import random\n",
    "\n",
    "N = 5\n",
    "a,b = 10,50\n",
    "c,d = 100,500\n",
    "\n",
    "original_number = []\n",
    "for _ in range(N):\n",
    "    num = random.uniform(a,b)\n",
    "    original_number.append(round(num,4))\n",
    "\n",
    "mapped_number = []\n",
    "for num in original_number:\n",
    "    mapped_value = ((num-a)/(b-a))*(d-c)+c\n",
    "    mapped_number.append(round(mapped_value,4))\n",
    "\n",
    "with open(\"random_number.txt\" ,\"w\") as file:\n",
    "    file.write(f\"{N},{a},{b}:\\n\")\n",
    "    file.write(\",\".join(map(str,original_number))+\"\\n\")\n",
    "    file.write(f\"{N},{c},{d}:\\n\")\n",
    "    file.write(\",\".join(map(str,mapped_number))+\"\\n\")\n",
    "\n",
    "print(\"File 'random number generator' created successfully.\")\n",
    "\n"
   ]
  }
 ],
 "metadata": {
  "kernelspec": {
   "display_name": "Python 3 (ipykernel)",
   "language": "python",
   "name": "python3"
  },
  "language_info": {
   "codemirror_mode": {
    "name": "ipython",
    "version": 3
   },
   "file_extension": ".py",
   "mimetype": "text/x-python",
   "name": "python",
   "nbconvert_exporter": "python",
   "pygments_lexer": "ipython3",
   "version": "3.12.7"
  }
 },
 "nbformat": 4,
 "nbformat_minor": 5
}
