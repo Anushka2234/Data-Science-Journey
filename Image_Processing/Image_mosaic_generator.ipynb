{
 "cells": [
  {
   "cell_type": "code",
   "execution_count": 1,
   "id": "8dc39e7b-bc03-4d88-b87a-e00187cba841",
   "metadata": {},
   "outputs": [
    {
     "name": "stdout",
     "output_type": "stream",
     "text": [
      "Requirement already satisfied: opencv-python in c:\\users\\rajat\\.anaconda\\lib\\site-packages (4.11.0.86)\n",
      "Requirement already satisfied: numpy in c:\\users\\rajat\\.anaconda\\lib\\site-packages (1.26.4)\n",
      "Requirement already satisfied: matplotlib in c:\\users\\rajat\\.anaconda\\lib\\site-packages (3.9.2)\n",
      "Requirement already satisfied: contourpy>=1.0.1 in c:\\users\\rajat\\.anaconda\\lib\\site-packages (from matplotlib) (1.2.0)\n",
      "Requirement already satisfied: cycler>=0.10 in c:\\users\\rajat\\.anaconda\\lib\\site-packages (from matplotlib) (0.11.0)\n",
      "Requirement already satisfied: fonttools>=4.22.0 in c:\\users\\rajat\\.anaconda\\lib\\site-packages (from matplotlib) (4.51.0)\n",
      "Requirement already satisfied: kiwisolver>=1.3.1 in c:\\users\\rajat\\.anaconda\\lib\\site-packages (from matplotlib) (1.4.4)\n",
      "Requirement already satisfied: packaging>=20.0 in c:\\users\\rajat\\.anaconda\\lib\\site-packages (from matplotlib) (24.1)\n",
      "Requirement already satisfied: pillow>=8 in c:\\users\\rajat\\.anaconda\\lib\\site-packages (from matplotlib) (10.4.0)\n",
      "Requirement already satisfied: pyparsing>=2.3.1 in c:\\users\\rajat\\.anaconda\\lib\\site-packages (from matplotlib) (3.1.2)\n",
      "Requirement already satisfied: python-dateutil>=2.7 in c:\\users\\rajat\\.anaconda\\lib\\site-packages (from matplotlib) (2.9.0.post0)\n",
      "Requirement already satisfied: six>=1.5 in c:\\users\\rajat\\.anaconda\\lib\\site-packages (from python-dateutil>=2.7->matplotlib) (1.16.0)\n"
     ]
    }
   ],
   "source": [
    "!pip install opencv-python numpy matplotlib"
   ]
  },
  {
   "cell_type": "code",
   "execution_count": 15,
   "id": "2a5c9903-c641-42e8-8c1f-0303ee89f675",
   "metadata": {},
   "outputs": [
    {
     "data": {
      "image/png": "[encoded data removed]",
      "text/plain": [
       "<Figure size 640x480 with 1 Axes>"
      ]
     },
     "metadata": {},
     "output_type": "display_data"
    }
   ],
   "source": [
    "import cv2\n",
    "import numpy as np\n",
    "import matplotlib.pyplot as plt\n",
    "\n",
    "# --- CONFIGURATION ---\n",
    "TILE_SIZE = 20  # Size of each tile (in pixels)\n",
    "GRID_SIZE = 10  # 10x10 grid of tiles\n",
    "\n",
    "# --- Step 1: Create a Target Image ---\n",
    "# We'll create a gradient image as our target\n",
    "target = np.zeros((TILE_SIZE * GRID_SIZE, TILE_SIZE * GRID_SIZE, 3), dtype=np.uint8)\n",
    "\n",
    "for i in range(target.shape[0]):\n",
    "    for j in range(target.shape[1]):\n",
    "        target[i, j] = [(i // 2) % 256, (j // 2) % 256, ((i + j) // 2) % 256]\n",
    "\n",
    "plt.imshow(target)\n",
    "plt.title(\"Target Image\")\n",
    "plt.axis('off')\n",
    "plt.show()\n"
   ]
  },
  {
   "cell_type": "code",
   "execution_count": 17,
   "id": "437970e9-a49a-4db5-b60c-c4265ad5b476",
   "metadata": {},
   "outputs": [],
   "source": [
    "# --- Step 2: Generate Some Tile Images ---\n",
    "def generate_tile_colors(n):\n",
    "    colors = [\n",
    "        (255, 0, 0),     # Red\n",
    "        (0, 255, 0),     # Green\n",
    "        (0, 0, 255),     # Blue\n",
    "        (255, 255, 0),   # Yellow\n",
    "        (0, 255, 255),   # Cyan\n",
    "        (255, 0, 255),   # Magenta\n",
    "        (128, 128, 128), # Gray\n",
    "        (255, 255, 255), # White\n",
    "        (0, 0, 0),       # Black\n",
    "        (100, 50, 200)   # Purple\n",
    "    ]\n",
    "    return [np.full((TILE_SIZE, TILE_SIZE, 3), color, dtype=np.uint8) for color in colors[:n]]\n",
    "\n",
    "tiles = generate_tile_colors(10)\n"
   ]
  },
  {
   "cell_type": "code",
   "execution_count": 18,
   "id": "b5e012f7-f8fe-478c-9949-8954a66c22d9",
   "metadata": {},
   "outputs": [],
   "source": [
    "# --- Step 3: Compute Average Colors of Tiles ---\n",
    "def average_color(img):\n",
    "    return np.mean(img, axis=(0, 1))\n",
    "\n",
    "tile_avg_colors = [average_color(tile) for tile in tiles]\n",
    "tile_colors_np = np.array(tile_avg_colors)\n"
   ]
  },
  {
   "cell_type": "code",
   "execution_count": 19,
   "id": "ab2a3b5d-25da-493e-bec3-4cd7d2c6e6a3",
   "metadata": {},
   "outputs": [],
   "source": [
    "# --- Step 4: Build the Mosaic ---\n",
    "rows, cols = target.shape[0] // TILE_SIZE, target.shape[1] // TILE_SIZE\n",
    "mosaic = np.zeros_like(target)\n",
    "\n",
    "def closest_tile(avg_color, tile_colors):\n",
    "    diffs = np.linalg.norm(tile_colors - avg_color, axis=1)\n",
    "    return np.argmin(diffs)\n",
    "\n",
    "for i in range(rows):\n",
    "    for j in range(cols):\n",
    "        y0, y1 = i * TILE_SIZE, (i + 1) * TILE_SIZE\n",
    "        x0, x1 = j * TILE_SIZE, (j + 1) * TILE_SIZE\n",
    "\n",
    "        block = target[y0:y1, x0:x1]\n",
    "        avg = average_color(block)\n",
    "        index = closest_tile(avg, tile_colors_np)\n",
    "\n",
    "        mosaic[y0:y1, x0:x1] = tiles[index]\n"
   ]
  },
  {
   "cell_type": "code",
   "execution_count": null,
   "id": "23330fa6-8943-4c2f-a7b3-b3f684c98925",
   "metadata": {},
   "outputs": [],
   "source": []
  }
 ],
 "metadata": {
  "kernelspec": {
   "display_name": "Python 3 (ipykernel)",
   "language": "python",
   "name": "python3"
  },
  "language_info": {
   "codemirror_mode": {
    "name": "ipython",
    "version": 3
   },
   "file_extension": ".py",
   "mimetype": "text/x-python",
   "name": "python",
   "nbconvert_exporter": "python",
   "pygments_lexer": "ipython3",
   "version": "3.12.7"
  }
 },
 "nbformat": 4,
 "nbformat_minor": 5
}
